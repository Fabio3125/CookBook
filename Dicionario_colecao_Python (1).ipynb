{
 "cells": [
  {
   "cell_type": "markdown",
   "id": "3b41acab",
   "metadata": {},
   "source": [
    "- Dicionários"
   ]
  },
  {
   "cell_type": "code",
   "execution_count": 2,
   "id": "08baa633",
   "metadata": {},
   "outputs": [
    {
     "name": "stdout",
     "output_type": "stream",
     "text": [
      "{'nome': 'Augusto', 'idade': 35, 'Setor': 'Manutenção', 'Cursos': ['NR10', 'NR33', 'NR35']}\n"
     ]
    }
   ],
   "source": [
    "funcionario = {'nome':'Augusto', 'idade':35, 'Setor': 'Manutenção', 'Cursos':['NR10','NR33','NR35']}\n",
    "print(funcionario)"
   ]
  },
  {
   "cell_type": "code",
   "execution_count": 3,
   "id": "971f3f9c",
   "metadata": {},
   "outputs": [
    {
     "name": "stdout",
     "output_type": "stream",
     "text": [
      "O funcionario Augusto possui curso de NR33?\n"
     ]
    }
   ],
   "source": [
    "print('O funcionario {} possui curso de NR33?'.format(funcionario.get('nome')))"
   ]
  },
  {
   "cell_type": "markdown",
   "id": "3a2d0dec",
   "metadata": {},
   "source": [
    "- Outra alternativa ou get():"
   ]
  },
  {
   "cell_type": "code",
   "execution_count": 4,
   "id": "53eebffc",
   "metadata": {},
   "outputs": [
    {
     "name": "stdout",
     "output_type": "stream",
     "text": [
      "O funcionario Augusto possui curso de NR33?\n"
     ]
    }
   ],
   "source": [
    "print('O funcionario {} possui curso de NR33?'.format(funcionario['nome']))"
   ]
  },
  {
   "cell_type": "code",
   "execution_count": 5,
   "id": "bb1b96f8",
   "metadata": {},
   "outputs": [
    {
     "name": "stdout",
     "output_type": "stream",
     "text": [
      "NR10\n",
      "NR33\n",
      "NR35\n"
     ]
    }
   ],
   "source": [
    "for valor in funcionario['Cursos']:\n",
    "    print(valor)"
   ]
  },
  {
   "cell_type": "code",
   "execution_count": 6,
   "id": "9f0be04c",
   "metadata": {},
   "outputs": [
    {
     "name": "stdout",
     "output_type": "stream",
     "text": [
      "Sim\n"
     ]
    }
   ],
   "source": [
    "for valor in funcionario['Cursos']:\n",
    "    if(valor == 'NR33'):\n",
    "        print('Sim')"
   ]
  },
  {
   "cell_type": "code",
   "execution_count": 7,
   "id": "66a8a225",
   "metadata": {},
   "outputs": [
    {
     "name": "stdout",
     "output_type": "stream",
     "text": [
      "O funcionario Augusto possui curso de NR33? SIM!\n"
     ]
    }
   ],
   "source": [
    "resposta = ''\n",
    "\n",
    "for valor in funcionario['Cursos']:\n",
    "    if(valor == 'NR33'):\n",
    "        resposta = 'SIM'\n",
    "        break\n",
    "    else:\n",
    "        resposta = 'NÃO'\n",
    "\n",
    "print('O funcionario {} possui curso de NR33? {}!'.format(funcionario['nome'], resposta))"
   ]
  },
  {
   "cell_type": "markdown",
   "id": "1fc7c790",
   "metadata": {},
   "source": [
    "- Dicionarios aninhados:"
   ]
  },
  {
   "cell_type": "code",
   "execution_count": 12,
   "id": "546a6b5e",
   "metadata": {},
   "outputs": [
    {
     "name": "stdout",
     "output_type": "stream",
     "text": [
      "['NR10', 'NR33', 'NR35']\n"
     ]
    }
   ],
   "source": [
    "funcionarios = {'funcionario1':{'nome':'Augusto', 'idade':35, 'Setor': 'Manutenção', 'Cursos':['NR10','NR33','NR35']},\n",
    "                'funcionario2':{'nome':'Pedro', 'idade':25, 'Setor': 'Manutenção', 'Cursos':['NR35']},\n",
    "                'funcionario3':{'nome':'Felipe', 'idade':40, 'Setor': 'Administração', 'Cursos':['SAP']}}\n",
    "\n",
    "print(funcionarios['funcionario1']['Cursos'])"
   ]
  },
  {
   "cell_type": "code",
   "execution_count": 14,
   "id": "7af6188e",
   "metadata": {},
   "outputs": [
    {
     "name": "stdout",
     "output_type": "stream",
     "text": [
      "O funcionario Augusto possui curso de NR33? SIM!\n"
     ]
    }
   ],
   "source": [
    "resposta = ''\n",
    "\n",
    "\n",
    "for valor in funcionarios['funcionario1']['Cursos']:\n",
    "    if(valor == 'NR33'):\n",
    "        resposta = 'SIM'\n",
    "        break\n",
    "    else:\n",
    "        resposta = 'NÃO'\n",
    "\n",
    "print('O funcionario {} possui curso de NR33? {}!'.format(funcionarios['funcionario1']['nome'], resposta))"
   ]
  },
  {
   "cell_type": "code",
   "execution_count": 15,
   "id": "e0ba103e",
   "metadata": {},
   "outputs": [
    {
     "name": "stdout",
     "output_type": "stream",
     "text": [
      "O funcionario Pedro possui curso de NR33? NÃO!\n"
     ]
    }
   ],
   "source": [
    "resposta = ''\n",
    "\n",
    "\n",
    "for valor in funcionarios['funcionario2']['Cursos']:\n",
    "    if(valor == 'NR33'):\n",
    "        resposta = 'SIM'\n",
    "        break\n",
    "    else:\n",
    "        resposta = 'NÃO'\n",
    "\n",
    "print('O funcionario {} possui curso de NR33? {}!'.format(funcionarios['funcionario2']['nome'], resposta))"
   ]
  },
  {
   "cell_type": "code",
   "execution_count": 16,
   "id": "475ff6b4",
   "metadata": {},
   "outputs": [
    {
     "name": "stdout",
     "output_type": "stream",
     "text": [
      "O funcionario Felipe possui curso de NR33? NÃO!\n"
     ]
    }
   ],
   "source": [
    "resposta = ''\n",
    "\n",
    "\n",
    "for valor in funcionarios['funcionario3']['Cursos']:\n",
    "    if(valor == 'NR33'):\n",
    "        resposta = 'SIM'\n",
    "        break\n",
    "    else:\n",
    "        resposta = 'NÃO'\n",
    "\n",
    "print('O funcionario {} possui curso de NR33? {}!'.format(funcionarios['funcionario3']['nome'], resposta))"
   ]
  },
  {
   "cell_type": "markdown",
   "id": "864a681f",
   "metadata": {},
   "source": [
    "- Adicionando itens\n",
    "Adicionando Salario"
   ]
  },
  {
   "cell_type": "code",
   "execution_count": 2,
   "id": "1684e38a",
   "metadata": {},
   "outputs": [
    {
     "name": "stdout",
     "output_type": "stream",
     "text": [
      "{'nome': 'Augusto', 'idade': 35, 'Setor': 'Manutenção', 'Cursos': ['NR10', 'NR33', 'NR35']}\n",
      "{'nome': 'Augusto', 'idade': 35, 'Setor': 'Manutenção', 'Cursos': ['NR10', 'NR33', 'NR35'], 'Salario': 2000}\n"
     ]
    }
   ],
   "source": [
    "funcionario = {'nome':'Augusto', 'idade':35, 'Setor': 'Manutenção', 'Cursos':['NR10','NR33','NR35']}\n",
    "\n",
    "print(funcionario)\n",
    "\n",
    "funcionario['Salario'] = 2000\n",
    "\n",
    "print(funcionario)"
   ]
  },
  {
   "cell_type": "code",
   "execution_count": 6,
   "id": "954ad4f1",
   "metadata": {
    "scrolled": true
   },
   "outputs": [
    {
     "name": "stdout",
     "output_type": "stream",
     "text": [
      "{'funcionario1': {'nome': 'Augusto', 'idade': 35, 'Setor': 'Manutenção', 'Cursos': ['NR10', 'NR33', 'NR35']}, 'funcionario2': {'nome': 'Pedro', 'idade': 25, 'Setor': 'Manutenção', 'Cursos': ['NR35']}, 'funcionario3': {'nome': 'Felipe', 'idade': 40, 'Setor': 'Administração', 'Cursos': ['SAP']}}\n",
      "\n",
      "\n",
      "O funcionario Augusto rcebe: R$ 4500\n",
      "O funcionario Pedro rcebe: R$ 2500\n",
      "O funcionario Felipe rcebe: R$ 1800\n"
     ]
    }
   ],
   "source": [
    "funcionarios = {'funcionario1':{'nome':'Augusto', 'idade':35, 'Setor': 'Manutenção', 'Cursos':['NR10','NR33','NR35']},\n",
    "                'funcionario2':{'nome':'Pedro', 'idade':25, 'Setor': 'Manutenção', 'Cursos':['NR35']},\n",
    "                'funcionario3':{'nome':'Felipe', 'idade':40, 'Setor': 'Administração', 'Cursos':['SAP']}}\n",
    "\n",
    "print(funcionarios)\n",
    "print('\\n')\n",
    "\n",
    "funcionarios['funcionario1']['Salario'] = 4500\n",
    "funcionarios['funcionario2']['Salario'] = 2500\n",
    "funcionarios['funcionario3']['Salario'] = 1800\n",
    "\n",
    "#print(funcionarios)\n",
    "\n",
    "for i in range(1,4):\n",
    "    print('O funcionario {} rcebe: R$ {}'.format(funcionarios['funcionario'+str(i)]['nome'], \n",
    "                                                 funcionarios['funcionario'+str(i)]['Salario']))"
   ]
  },
  {
   "cell_type": "code",
   "execution_count": 7,
   "id": "5d7e4e04",
   "metadata": {},
   "outputs": [
    {
     "name": "stdout",
     "output_type": "stream",
     "text": [
      "O funcionario Augusto rcebe: R$ 4500\n",
      "O funcionario Pedro rcebe: R$ 4500\n",
      "O funcionario Felipe rcebe: R$ 4500\n"
     ]
    }
   ],
   "source": [
    "for i in range(1,4):\n",
    "    funcionarios['funcionario'+str(i)]['Salario'] = 4500\n",
    "    \n",
    "#print(funcionarios)\n",
    "\n",
    "for i in range(1,4):\n",
    "    print('O funcionario {} rcebe: R$ {}'.format(funcionarios['funcionario'+str(i)]['nome'], \n",
    "                                                 funcionarios['funcionario'+str(i)]['Salario']))"
   ]
  }
 ],
 "metadata": {
  "kernelspec": {
   "display_name": "Python 3 (ipykernel)",
   "language": "python",
   "name": "python3"
  },
  "language_info": {
   "codemirror_mode": {
    "name": "ipython",
    "version": 3
   },
   "file_extension": ".py",
   "mimetype": "text/x-python",
   "name": "python",
   "nbconvert_exporter": "python",
   "pygments_lexer": "ipython3",
   "version": "3.10.1"
  },
  "varInspector": {
   "cols": {
    "lenName": 16,
    "lenType": 16,
    "lenVar": 40
   },
   "kernels_config": {
    "python": {
     "delete_cmd_postfix": "",
     "delete_cmd_prefix": "del ",
     "library": "var_list.py",
     "varRefreshCmd": "print(var_dic_list())"
    },
    "r": {
     "delete_cmd_postfix": ") ",
     "delete_cmd_prefix": "rm(",
     "library": "var_list.r",
     "varRefreshCmd": "cat(var_dic_list()) "
    }
   },
   "types_to_exclude": [
    "module",
    "function",
    "builtin_function_or_method",
    "instance",
    "_Feature"
   ],
   "window_display": false
  }
 },
 "nbformat": 4,
 "nbformat_minor": 5
}
